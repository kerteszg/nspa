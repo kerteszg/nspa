{
 "cells": [
  {
   "cell_type": "code",
   "execution_count": 33,
   "metadata": {},
   "outputs": [],
   "source": [
    "import matplotlib.pyplot as plt\n",
    "import numpy as np\n",
    "from tikzplotlib import save as tikz_save"
   ]
  },
  {
   "cell_type": "code",
   "execution_count": 43,
   "metadata": {},
   "outputs": [
    {
     "data": {
      "text/plain": [
       "<Figure size 640x640 with 0 Axes>"
      ]
     },
     "metadata": {},
     "output_type": "display_data"
    },
    {
     "data": {
      "image/png": "[encoded data removed]",
      "text/plain": [
       "<Figure size 432x288 with 1 Axes>"
      ]
     },
     "metadata": {
      "needs_background": "light"
     },
     "output_type": "display_data"
    }
   ],
   "source": [
    "r = 5\n",
    "m = 3\n",
    "\n",
    "a = np.array([[0,0]])\n",
    "p = np.array([[r-0.0675,0]])\n",
    "nh = np.array([[i,j] for [i,j] in np.random.rand(100,2)*2*r-r if (i*i)+(j*j) < .8 * r*r and (i*i)+(j*j) > r])\n",
    "nsh = np.array([[i,j] for [i,j] in np.random.rand(100,2)*2*(r+m)-(r+m) if (i*i)+(j*j) < .85*(r+m)*(r+m) and (i*i)+(j*j) > 1.2 * r*r])\n",
    "no = np.array([[i,j] for [i,j] in np.random.rand(100,2)*2*(r+m)-(r+m) if (i*i)+(j*j) > 1.2 * (r+m)*(r+m)])\n",
    "n_ = np.array([[0.95,0.75]])\n",
    "ps = np.random.rand(5,2)*20-10\n",
    "plt.figure(figsize=(8, 8), dpi=80)\n",
    "fig, ax = plt.subplots()\n",
    "plt.scatter(a[:, 0], a[:, 1], c='gray', marker=\"x\")\n",
    "plt.scatter(p[:, 0], p[:, 1], c='green', marker=\"o\")\n",
    "plt.scatter(nh[:5, 0], nh[:5, 1], c='red', marker=\"s\")\n",
    "plt.scatter(nsh[:5, 0], nsh[:5, 1], c='red', marker=\"^\")\n",
    "plt.scatter(no[:10, 0], no[:10, 1], c='purple', marker=\"_\")\n",
    "plt.scatter(n_[:, 0], n_[:, 1], c='red', marker=\"*\")\n",
    "plt.scatter(ps[:, 0], ps[:, 1], c='darkgreen', marker=\"+\")\n",
    "plt.plot([0 for i in range(0, 9)], \":\", c=\"gray\")\n",
    "circle1 = plt.Circle((0, 0), r, edgecolor='black', fill=False)\n",
    "circle2 = plt.Circle((0, 0), r+m, edgecolor='darkgray', fill=False, linestyle='--')\n",
    "plt.xlim(left=-2*r, right=2*r)\n",
    "plt.ylim(bottom=-2*r, top=2*r)\n",
    "plt.axis('off')\n",
    "ax.set_aspect('equal', 'box')\n",
    "ax.add_patch(circle1)\n",
    "ax.add_patch(circle2)\n",
    "tikz_save(\"fig_triplet_loss_sample.tikz\")"
   ]
  },
  {
   "cell_type": "code",
   "execution_count": 111,
   "metadata": {},
   "outputs": [
    {
     "data": {
      "text/plain": [
       "(array([[ 1.02019189, -0.57296361],\n",
       "        [-0.02109011, -0.41237979],\n",
       "        [ 0.11845063, -0.02064043],\n",
       "        [-0.27780878, -0.20511454],\n",
       "        [ 0.47800672,  0.53145868],\n",
       "        [-0.50717966, -0.67060082],\n",
       "        [ 1.77308172,  0.89495765],\n",
       "        [-0.30265152,  1.53572943],\n",
       "        [ 0.18948823, -0.12507949],\n",
       "        [ 0.22037735, -0.74196759],\n",
       "        [ 0.41897001, -0.72852622],\n",
       "        [ 0.18394381, -2.14372309],\n",
       "        [-1.77919936,  0.34792558],\n",
       "        [-1.4275432 ,  0.96131568],\n",
       "        [ 1.65626162, -1.04684008],\n",
       "        [ 1.46177843, -0.74280738],\n",
       "        [ 0.49889775, -2.00857295],\n",
       "        [ 1.19700306, -0.6472673 ],\n",
       "        [-2.12574491, -0.77209597],\n",
       "        [ 2.79526138, -0.3456417 ]]), 2.51673663005076)"
      ]
     },
     "execution_count": 111,
     "metadata": {},
     "output_type": "execute_result"
    }
   ],
   "source": [
    "a = np.random.randn(20,2)\n",
    "last = a.shape[0]-1\n",
    "a[last,:] = [np.abs(a[:last, 1]).mean()+2, np.mean(a[:last, 1])]\n",
    "c = np.mean(a, axis=0).reshape((1,2))\n",
    "r = np.linalg.norm(c[0]-a[last])\n",
    "a, r"
   ]
  },
  {
   "cell_type": "code",
   "execution_count": 113,
   "metadata": {},
   "outputs": [
    {
     "data": {
      "text/plain": [
       "<Figure size 640x640 with 0 Axes>"
      ]
     },
     "metadata": {},
     "output_type": "display_data"
    },
    {
     "data": {
      "image/png": "[encoded data removed]",
      "text/plain": [
       "<Figure size 432x288 with 1 Axes>"
      ]
     },
     "metadata": {
      "needs_background": "light"
     },
     "output_type": "display_data"
    }
   ],
   "source": [
    "plt.figure(figsize=(8, 8), dpi=80)\n",
    "fig, ax = plt.subplots()\n",
    "plt.scatter(a[:, 0], a[:, 1], c='gray', marker=\"o\")\n",
    "plt.scatter(c[:, 0], c[:, 1], c='black', marker=\"x\")\n",
    "circle1 = plt.Circle((c[0,0], c[0,1]), r+0.03, edgecolor='black', fill=False, alpha=.5)\n",
    "linex = [c[0, 0], a[last, 0]]\n",
    "liney = [c[0, 1], a[last, 1]]\n",
    "plt.plot(linex, liney, \":\", c=\"gray\")\n",
    "plt.axis('off')\n",
    "plt.xlim(left=-1.5*r, right=1.5*r)\n",
    "plt.ylim(bottom=-1.5*r, top=1.5*r)\n",
    "ax.set_aspect('equal', 'box')\n",
    "ax.add_patch(circle1)\n",
    "tikz_save(\"fig_cluster_radius_sample.tikz\")"
   ]
  }
 ],
 "metadata": {
  "kernelspec": {
   "display_name": "Python 3.7.4 ('venv')",
   "language": "python",
   "name": "python3"
  },
  "language_info": {
   "codemirror_mode": {
    "name": "ipython",
    "version": 3
   },
   "file_extension": ".py",
   "mimetype": "text/x-python",
   "name": "python",
   "nbconvert_exporter": "python",
   "pygments_lexer": "ipython3",
   "version": "3.7.4"
  },
  "orig_nbformat": 4,
  "vscode": {
   "interpreter": {
    "hash": "b35e6b2ca42e64844843c2df7bb66c7b996cc55c5b8799677073c7029aeac93d"
   }
  }
 },
 "nbformat": 4,
 "nbformat_minor": 2
}
