{
 "cells": [
  {
   "cell_type": "code",
   "execution_count": 4,
   "metadata": {},
   "outputs": [],
   "source": [
    "import numpy as np\n",
    "import matplotlib.pyplot as plt\n",
    "\n",
    "from ClusterAnalysis import report"
   ]
  },
  {
   "cell_type": "code",
   "execution_count": 5,
   "metadata": {},
   "outputs": [],
   "source": [
    "colors = np.array([[1,0,0], [0,1,0], [0,0,1], \n",
    "                  [0,1,1], [1,0,1], [1,1,0]])\n",
    "colors = np.append(colors, .5 * colors, axis=0)"
   ]
  },
  {
   "cell_type": "code",
   "execution_count": 6,
   "metadata": {},
   "outputs": [],
   "source": [
    "def getColors(k):\n",
    "    if k > colors.shape[0]:\n",
    "        col = np.repeat(colors, np.ceil(k / colors.shape[0]), axis=0)\n",
    "    else:\n",
    "        col = colors\n",
    "    return col[:k]"
   ]
  },
  {
   "cell_type": "code",
   "execution_count": 7,
   "metadata": {},
   "outputs": [],
   "source": [
    "d = 2\n",
    "k = 20\n",
    "n = 100"
   ]
  },
  {
   "cell_type": "code",
   "execution_count": 8,
   "metadata": {},
   "outputs": [],
   "source": [
    "A = np.zeros((k, n, d))"
   ]
  },
  {
   "cell_type": "code",
   "execution_count": 9,
   "metadata": {},
   "outputs": [],
   "source": [
    "C = np.random.rand(k,d)"
   ]
  },
  {
   "cell_type": "code",
   "execution_count": 10,
   "metadata": {},
   "outputs": [
    {
     "data": {
      "text/plain": [
       "(0, 1)"
      ]
     },
     "execution_count": 10,
     "metadata": {},
     "output_type": "execute_result"
    },
    {
     "data": {
      "image/png": "[encoded data removed]",
      "text/plain": [
       "<Figure size 432x288 with 1 Axes>"
      ]
     },
     "metadata": {
      "needs_background": "light"
     },
     "output_type": "display_data"
    }
   ],
   "source": [
    "col = getColors(k)\n",
    "plt.scatter(C[:,0], C[:,1], c=col)\n",
    "plt.xlim(0, 1)\n",
    "plt.ylim(0, 1)"
   ]
  },
  {
   "cell_type": "code",
   "execution_count": 11,
   "metadata": {},
   "outputs": [
    {
     "data": {
      "text/plain": [
       "(20, 100, 2)"
      ]
     },
     "execution_count": 11,
     "metadata": {},
     "output_type": "execute_result"
    }
   ],
   "source": [
    "A.shape"
   ]
  },
  {
   "cell_type": "code",
   "execution_count": 12,
   "metadata": {},
   "outputs": [],
   "source": [
    "for _k in range(k):\n",
    "    A[_k,:,:] = C[_k] - 0.01 * np.random.randn(n,d)"
   ]
  },
  {
   "cell_type": "code",
   "execution_count": 13,
   "metadata": {},
   "outputs": [],
   "source": [
    "Acol = np.zeros((k*n,3))\n",
    "for i in range(k):\n",
    "    for j in range(n):\n",
    "        Acol[i*n+j,:] = col[i]"
   ]
  },
  {
   "cell_type": "code",
   "execution_count": 14,
   "metadata": {},
   "outputs": [
    {
     "data": {
      "text/plain": [
       "(-0.5, 1.5)"
      ]
     },
     "execution_count": 14,
     "metadata": {},
     "output_type": "execute_result"
    },
    {
     "data": {
      "image/png": "[encoded data removed]",
      "text/plain": [
       "<Figure size 432x288 with 1 Axes>"
      ]
     },
     "metadata": {
      "needs_background": "light"
     },
     "output_type": "display_data"
    }
   ],
   "source": [
    "plt.scatter(A[:,:,0], A[:,:,1], c=Acol)\n",
    "plt.xlim(-0.5, 1.5)\n",
    "plt.ylim(-0.5, 1.5)"
   ]
  },
  {
   "cell_type": "code",
   "execution_count": 15,
   "metadata": {},
   "outputs": [
    {
     "data": {
      "text/plain": [
       "((20, 100, 2), 20, 100, 2)"
      ]
     },
     "execution_count": 15,
     "metadata": {},
     "output_type": "execute_result"
    }
   ],
   "source": [
    "A.shape, k, n, d"
   ]
  },
  {
   "cell_type": "code",
   "execution_count": 16,
   "metadata": {},
   "outputs": [
    {
     "data": {
      "text/plain": [
       "{'avgCentroidDistance': 0.5325773061515737,\n",
       " 'avgClosestNegatives': 0.08793085573402733,\n",
       " 'avgClusterRadius': 0.03157823794956818,\n",
       " 'avgPctOfNegativesInCluster': 0.006750438993541945,\n",
       " 'avgPctOfNegativesInClusterWithMargin': 0.6675667790967902,\n",
       " 'avgPositiveDistance': 0.017666418570017675,\n",
       " 'stdPositiveDistance': 0.009209631730943043,\n",
       " 'avgDistanceOfFurthestPositives': 0.055862709946241186,\n",
       " 'avgDistanceBetweenElements': 0.5073403111634582,\n",
       " 'stdDistanceBetweenElements': 0.2717807544806942}"
      ]
     },
     "execution_count": 16,
     "metadata": {},
     "output_type": "execute_result"
    }
   ],
   "source": [
    "report(A, k, n, d)"
   ]
  },
  {
   "cell_type": "code",
   "execution_count": 17,
   "metadata": {},
   "outputs": [
    {
     "data": {
      "text/plain": [
       "(-0.5, 1.5)"
      ]
     },
     "execution_count": 17,
     "metadata": {},
     "output_type": "execute_result"
    },
    {
     "data": {
      "image/png": "[encoded data removed]",
      "text/plain": [
       "<Figure size 432x288 with 1 Axes>"
      ]
     },
     "metadata": {
      "needs_background": "light"
     },
     "output_type": "display_data"
    }
   ],
   "source": [
    "d = 2\n",
    "k = 3\n",
    "n = 5\n",
    "\n",
    "A = np.zeros((k, n, d))\n",
    "C = np.random.rand(k,d)\n",
    "\n",
    "for _k in range(k):\n",
    "    A[_k,:,:] = C[_k] - 0.01 * np.random.randn(n,d)\n",
    "\n",
    "col = getColors(k)\n",
    "Acol = np.zeros((k*n,3))\n",
    "for i in range(k):\n",
    "    for j in range(n):\n",
    "        Acol[i*n+j,:] = col[i]\n",
    "        \n",
    "plt.scatter(A[:,:,0], A[:,:,1], c=Acol)\n",
    "plt.xlim(-0.5, 1.5)\n",
    "plt.ylim(-0.5, 1.5)"
   ]
  },
  {
   "cell_type": "code",
   "execution_count": 18,
   "metadata": {},
   "outputs": [
    {
     "data": {
      "text/plain": [
       "{'avgCentroidDistance': 0.44854759604529204,\n",
       " 'avgClosestNegatives': 0.28565591314895067,\n",
       " 'avgClusterRadius': 0.012130626652625737,\n",
       " 'avgPctOfNegativesInCluster': 0.0,\n",
       " 'avgPctOfNegativesInClusterWithMargin': 0.3333333333333333,\n",
       " 'avgPositiveDistance': 0.012866866451028488,\n",
       " 'stdPositiveDistance': 0.005407049161996531,\n",
       " 'avgDistanceOfFurthestPositives': 0.020055277550341723,\n",
       " 'avgDistanceBetweenElements': 0.3241303140546165,\n",
       " 'stdDistanceBetweenElements': 0.25459386326319616}"
      ]
     },
     "execution_count": 18,
     "metadata": {},
     "output_type": "execute_result"
    }
   ],
   "source": [
    "report(A, k, n, d)"
   ]
  },
  {
   "cell_type": "code",
   "execution_count": 19,
   "metadata": {},
   "outputs": [
    {
     "data": {
      "text/plain": [
       "(-0.5, 1.5)"
      ]
     },
     "execution_count": 19,
     "metadata": {},
     "output_type": "execute_result"
    },
    {
     "data": {
      "image/png": "[encoded data removed]",
      "text/plain": [
       "<Figure size 432x288 with 1 Axes>"
      ]
     },
     "metadata": {
      "needs_background": "light"
     },
     "output_type": "display_data"
    }
   ],
   "source": [
    "d = 2\n",
    "k = 2\n",
    "n = 2\n",
    "\n",
    "A = np.zeros((k, n, d))\n",
    "C = np.array([[0,0], [1,1]])\n",
    "\n",
    "for _k in range(k):\n",
    "    A[_k,:,:] = C[_k] - 0.01 * np.random.randn(n,d)\n",
    "\n",
    "col = getColors(k)\n",
    "Acol = np.zeros((k*n,3))\n",
    "for i in range(k):\n",
    "    for j in range(n):\n",
    "        Acol[i*n+j,:] = col[i]\n",
    "        \n",
    "plt.scatter(A[:,:,0], A[:,:,1], c=Acol)\n",
    "plt.xlim(-0.5, 1.5)\n",
    "plt.ylim(-0.5, 1.5)"
   ]
  },
  {
   "cell_type": "code",
   "execution_count": 20,
   "metadata": {},
   "outputs": [
    {
     "data": {
      "text/plain": [
       "{'avgCentroidDistance': 1.4113100157671055,\n",
       " 'avgClosestNegatives': 1.4036640569030436,\n",
       " 'avgClusterRadius': 0.010975321948055786,\n",
       " 'avgPctOfNegativesInCluster': 0.0,\n",
       " 'avgPctOfNegativesInClusterWithMargin': 0.0,\n",
       " 'avgPositiveDistance': 0.021950643896111573,\n",
       " 'stdPositiveDistance': 0.007169277680167839,\n",
       " 'avgDistanceOfFurthestPositives': 0.021950643896111573,\n",
       " 'avgDistanceBetweenElements': 0.9482220351459999,\n",
       " 'stdDistanceBetweenElements': 0.6550529993874915}"
      ]
     },
     "execution_count": 20,
     "metadata": {},
     "output_type": "execute_result"
    }
   ],
   "source": [
    "report(A, k, n, d)"
   ]
  },
  {
   "cell_type": "code",
   "execution_count": 21,
   "metadata": {},
   "outputs": [
    {
     "data": {
      "text/plain": [
       "(-0.5, 1.5)"
      ]
     },
     "execution_count": 21,
     "metadata": {},
     "output_type": "execute_result"
    },
    {
     "data": {
      "image/png": "[encoded data removed]",
      "text/plain": [
       "<Figure size 432x288 with 1 Axes>"
      ]
     },
     "metadata": {
      "needs_background": "light"
     },
     "output_type": "display_data"
    }
   ],
   "source": [
    "d = 2\n",
    "k = 2\n",
    "n = 2\n",
    "\n",
    "A = np.zeros((k, n, d))\n",
    "C = np.array([[0,0], [1,1]])\n",
    "\n",
    "for _k in range(k):\n",
    "    A[_k,:,:] = C[_k] - 0.1 * np.random.randn(n,d)\n",
    "\n",
    "col = getColors(k)\n",
    "Acol = np.zeros((k*n,3))\n",
    "for i in range(k):\n",
    "    for j in range(n):\n",
    "        Acol[i*n+j,:] = col[i]\n",
    "        \n",
    "plt.scatter(A[:,:,0], A[:,:,1], c=Acol)\n",
    "plt.xlim(-0.5, 1.5)\n",
    "plt.ylim(-0.5, 1.5)"
   ]
  },
  {
   "cell_type": "code",
   "execution_count": 22,
   "metadata": {},
   "outputs": [
    {
     "data": {
      "text/plain": [
       "{'avgCentroidDistance': 1.4065137779380692,\n",
       " 'avgClosestNegatives': 1.3389453863436276,\n",
       " 'avgClusterRadius': 0.06897631557425536,\n",
       " 'avgPctOfNegativesInCluster': 0.0,\n",
       " 'avgPctOfNegativesInClusterWithMargin': 0.0,\n",
       " 'avgPositiveDistance': 0.13795263114851067,\n",
       " 'stdPositiveDistance': 0.08509354182555964,\n",
       " 'avgDistanceOfFurthestPositives': 0.13795263114851067,\n",
       " 'avgDistanceBetweenElements': 0.9837053101810843,\n",
       " 'stdDistanceBetweenElements': 0.6072004835928801}"
      ]
     },
     "execution_count": 22,
     "metadata": {},
     "output_type": "execute_result"
    }
   ],
   "source": [
    "report(A, k, n, d)"
   ]
  },
  {
   "cell_type": "code",
   "execution_count": 23,
   "metadata": {},
   "outputs": [
    {
     "data": {
      "text/plain": [
       "(-0.5, 1.5)"
      ]
     },
     "execution_count": 23,
     "metadata": {},
     "output_type": "execute_result"
    },
    {
     "data": {
      "image/png": "[encoded data removed]",
      "text/plain": [
       "<Figure size 432x288 with 1 Axes>"
      ]
     },
     "metadata": {
      "needs_background": "light"
     },
     "output_type": "display_data"
    }
   ],
   "source": [
    "A = np.array([\n",
    "    [\n",
    "        [0.25, 0.25],\n",
    "        [0.25, 0.3],\n",
    "        [0.25, 0.20],\n",
    "    ],\n",
    "    [\n",
    "        [0.5, 0.75],\n",
    "        [0.5, 0.8],\n",
    "        [0.5, 0.7],\n",
    "    ],\n",
    "    [\n",
    "        [0.75, 0.25],\n",
    "        [0.75, 0.3],\n",
    "        [0.75, 0.2],\n",
    "    ]\n",
    "])\n",
    "\n",
    "k,n,d = A.shape\n",
    "\n",
    "col = getColors(k)\n",
    "Acol = np.zeros((k*n,3))\n",
    "for i in range(k):\n",
    "    for j in range(n):\n",
    "        Acol[i*n+j,:] = col[i]\n",
    "        \n",
    "plt.scatter(A[:,:,0], A[:,:,1], c=Acol)\n",
    "plt.xlim(-0.5, 1.5)\n",
    "plt.ylim(-0.5, 1.5)"
   ]
  },
  {
   "cell_type": "code",
   "execution_count": 24,
   "metadata": {},
   "outputs": [
    {
     "data": {
      "text/plain": [
       "{'avgCentroidDistance': 0.5393446629166316,\n",
       " 'avgClosestNegatives': 0.50492716901645,\n",
       " 'avgClusterRadius': 0.05000000000000001,\n",
       " 'avgPctOfNegativesInCluster': 0.0,\n",
       " 'avgPctOfNegativesInClusterWithMargin': 0.0,\n",
       " 'avgPositiveDistance': 0.06666666666666668,\n",
       " 'stdPositiveDistance': 0.023570226039551587,\n",
       " 'avgDistanceOfFurthestPositives': 0.10000000000000002,\n",
       " 'avgDistanceBetweenElements': 0.4223059535920665,\n",
       " 'stdDistanceBetweenElements': 0.2101372921703698}"
      ]
     },
     "execution_count": 24,
     "metadata": {},
     "output_type": "execute_result"
    }
   ],
   "source": [
    "report(A)"
   ]
  },
  {
   "cell_type": "code",
   "execution_count": 30,
   "metadata": {},
   "outputs": [],
   "source": [
    "def showScatterPlot(A, lim_shift=0.5):\n",
    "    k,n,d = A.shape\n",
    "    col = getColors(k)\n",
    "    Acol = np.zeros((k*n,3))\n",
    "    for i in range(k):\n",
    "        for j in range(n):\n",
    "            Acol[i*n+j,:] = col[i]\n",
    "            \n",
    "    plt.scatter(A[:,:,0], A[:,:,1], c=Acol)\n",
    "    plt.xlim(0-lim_shift, 1+lim_shift)\n",
    "    plt.ylim(0-lim_shift, 1+lim_shift)"
   ]
  },
  {
   "cell_type": "code",
   "execution_count": 38,
   "metadata": {},
   "outputs": [
    {
     "data": {
      "image/png": "[encoded data removed]",
      "text/plain": [
       "<Figure size 432x288 with 1 Axes>"
      ]
     },
     "metadata": {
      "needs_background": "light"
     },
     "output_type": "display_data"
    }
   ],
   "source": [
    "import pickle\n",
    "fn = '../Dataset/' + 'val_encodings_{}D_{}classes_epoch{}.pkl'.format(32, 5, 0)\n",
    "with open(fn, 'rb') as f:\n",
    "    A = pickle.load(f)\n",
    "\n",
    "showScatterPlot(A, 0.1)"
   ]
  },
  {
   "cell_type": "code",
   "execution_count": 27,
   "metadata": {},
   "outputs": [
    {
     "data": {
      "text/plain": [
       "{'avgCentroidDistance': 0.10851194389350578,\n",
       " 'avgClosestNegatives': 0.010615266412661608,\n",
       " 'avgClusterRadius': 0.16260876304992974,\n",
       " 'avgPctOfNegativesInCluster': 0.6349041010491886,\n",
       " 'avgPctOfNegativesInClusterWithMargin': 0.7955888162351414,\n",
       " 'avgPositiveDistance': 0.04843369,\n",
       " 'stdPositiveDistance': 0.0609306,\n",
       " 'avgDistanceOfFurthestPositives': 0.21912019,\n",
       " 'avgDistanceBetweenElements': 0.106932886,\n",
       " 'stdDistanceBetweenElements': 0.11522977}"
      ]
     },
     "execution_count": 27,
     "metadata": {},
     "output_type": "execute_result"
    }
   ],
   "source": [
    "report(A)"
   ]
  },
  {
   "cell_type": "code",
   "execution_count": 41,
   "metadata": {},
   "outputs": [
    {
     "data": {
      "image/png": "[encoded data removed]",
      "text/plain": [
       "<Figure size 432x288 with 1 Axes>"
      ]
     },
     "metadata": {
      "needs_background": "light"
     },
     "output_type": "display_data"
    }
   ],
   "source": [
    "import pickle\n",
    "fn = '../Dataset/' + 'val_encodings_{}D_{}classes_epoch{}.pkl'.format(32, 5, 10)\n",
    "with open(fn, 'rb') as f:\n",
    "    A = pickle.load(f)\n",
    "\n",
    "showScatterPlot(A, .75)"
   ]
  },
  {
   "cell_type": "code",
   "execution_count": 42,
   "metadata": {},
   "outputs": [
    {
     "data": {
      "text/plain": [
       "{'avgCentroidDistance': 1.1024085878593004,\n",
       " 'avgClosestNegatives': 0.5501887230014508,\n",
       " 'avgClusterRadius': 0.3349530154531166,\n",
       " 'avgPctOfNegativesInCluster': 0.0,\n",
       " 'avgPctOfNegativesInClusterWithMargin': 0.013594074339560652,\n",
       " 'avgPositiveDistance': 0.13304548,\n",
       " 'stdPositiveDistance': 0.098508306,\n",
       " 'avgDistanceOfFurthestPositives': 0.5368018,\n",
       " 'avgDistanceBetweenElements': 0.9151393,\n",
       " 'stdDistanceBetweenElements': 0.5060368}"
      ]
     },
     "execution_count": 42,
     "metadata": {},
     "output_type": "execute_result"
    }
   ],
   "source": [
    "report(A)"
   ]
  },
  {
   "cell_type": "code",
   "execution_count": 43,
   "metadata": {},
   "outputs": [
    {
     "data": {
      "image/png": "[encoded data removed]",
      "text/plain": [
       "<Figure size 432x288 with 1 Axes>"
      ]
     },
     "metadata": {
      "needs_background": "light"
     },
     "output_type": "display_data"
    }
   ],
   "source": [
    "import pickle\n",
    "fn = '../Dataset/' + 'val_encodings_{}D_{}classes_epoch{}.pkl'.format(32, 5, 20)\n",
    "with open(fn, 'rb') as f:\n",
    "    A = pickle.load(f)\n",
    "\n",
    "showScatterPlot(A, 2)"
   ]
  },
  {
   "cell_type": "code",
   "execution_count": 44,
   "metadata": {},
   "outputs": [
    {
     "data": {
      "text/plain": [
       "{'avgCentroidDistance': 1.3180875708025124,\n",
       " 'avgClosestNegatives': 0.7439316199233595,\n",
       " 'avgClusterRadius': 0.3271623581322014,\n",
       " 'avgPctOfNegativesInCluster': 0.0,\n",
       " 'avgPctOfNegativesInClusterWithMargin': 0.0,\n",
       " 'avgPositiveDistance': 0.12457199,\n",
       " 'stdPositiveDistance': 0.098614,\n",
       " 'avgDistanceOfFurthestPositives': 0.5321754,\n",
       " 'avgDistanceBetweenElements': 1.0852083,\n",
       " 'stdDistanceBetweenElements': 0.61081856}"
      ]
     },
     "execution_count": 44,
     "metadata": {},
     "output_type": "execute_result"
    }
   ],
   "source": [
    "report(A)"
   ]
  }
 ],
 "metadata": {
  "kernelspec": {
   "display_name": "Python 3.7.4 ('venv')",
   "language": "python",
   "name": "python3"
  },
  "language_info": {
   "codemirror_mode": {
    "name": "ipython",
    "version": 3
   },
   "file_extension": ".py",
   "mimetype": "text/x-python",
   "name": "python",
   "nbconvert_exporter": "python",
   "pygments_lexer": "ipython3",
   "version": "3.7.4"
  },
  "vscode": {
   "interpreter": {
    "hash": "b35e6b2ca42e64844843c2df7bb66c7b996cc55c5b8799677073c7029aeac93d"
   }
  }
 },
 "nbformat": 4,
 "nbformat_minor": 4
}
