{
 "cells": [
  {
   "cell_type": "code",
   "execution_count": null,
   "metadata": {},
   "outputs": [],
   "source": [
    "results = {}"
   ]
  },
  {
   "cell_type": "markdown",
   "metadata": {},
   "source": [
    "## NIST SD19"
   ]
  },
  {
   "cell_type": "code",
   "execution_count": null,
   "metadata": {},
   "outputs": [],
   "source": [
    "configs = [\"nist_sq_triplet_random_no_softmax\", \"nist_sq_triplet_semihard_no_softmax\", \"nist_sq_triplet_hardest_no_softmax\", \"nist_sq_triplet_mixedlinear_no_softmax\"]"
   ]
  },
  {
   "cell_type": "code",
   "execution_count": null,
   "metadata": {},
   "outputs": [],
   "source": [
    "rows = []\n",
    "for c in configs:\n",
    "    rows.append(c)"
   ]
  },
  {
   "cell_type": "code",
   "execution_count": null,
   "metadata": {},
   "outputs": [],
   "source": [
    "rows\n",
    "print(\"random\",\n",
    "          '\\t'.join(\"{0:.2f}\".format(100 / x) for x in range(2, 11)), sep='\\t')\n",
    "\n",
    "for r in rows:\n",
    "    if r+\"_valacc\" not in results:\n",
    "        raise Exception('we have a problem: cant find ' + r + '_valacc')\n",
    "    print(r,\n",
    "          '\\t'.join(str(x) for x in results[r+\"_valacc\"]), sep='\\t')"
   ]
  }
 ],
 "metadata": {
  "kernelspec": {
   "display_name": "Python 3.8.5 64-bit",
   "language": "python",
   "name": "python3"
  },
  "language_info": {
   "codemirror_mode": {
    "name": "ipython",
    "version": 3
   },
   "file_extension": ".py",
   "mimetype": "text/x-python",
   "name": "python",
   "nbconvert_exporter": "python",
   "pygments_lexer": "ipython3",
   "version": "3.8.5"
  },
  "vscode": {
   "interpreter": {
    "hash": "9650cb4e16cdd4a8e8e2d128bf38d875813998db22a3c986335f89e0cb4d7bb2"
   }
  }
 },
 "nbformat": 4,
 "nbformat_minor": 4
}
