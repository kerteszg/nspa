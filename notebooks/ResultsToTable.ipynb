{
 "cells": [
  {
   "cell_type": "code",
   "execution_count": 1,
   "metadata": {},
   "outputs": [],
   "source": [
    "results = {'nist_sq_triplet_hardest_no_softmax_0_trainacc': [100.0, 50.6, 32.2, 26.5, 19.5, 16.0, 16.1, 10.7, 10.8, 9.3], 'nist_sq_triplet_hardest_no_softmax_0_valacc': [100.0, 51.4, 35.2, 23.3, 21.1, 17.6, 16.2, 12.8, 12.2, 9.7], 'nist_sq_triplet_hardest_no_softmax_1_trainacc': [100.0, 61.3, 45.3, 38.6, 30.9, 28.3, 25.7, 20.0, 21.6, 18.5], 'nist_sq_triplet_hardest_no_softmax_1_valacc': [100.0, 64.3, 48.8, 38.3, 31.7, 28.5, 26.5, 24.1, 23.3, 20.0], 'nist_sq_triplet_hardest_no_softmax_2_trainacc': [100.0, 48.9, 32.6, 22.5, 19.6, 16.0, 13.3, 10.5, 11.8, 10.8], 'nist_sq_triplet_hardest_no_softmax_2_valacc': [100.0, 48.8, 34.1, 25.7, 19.6, 15.7, 14.9, 10.7, 9.9, 9.7], 'nist_sq_triplet_hardest_no_softmax_3_trainacc': [100.0, 51.3, 32.5, 23.6, 18.9, 17.2, 14.2, 12.0, 9.1, 9.0], 'nist_sq_triplet_hardest_no_softmax_3_valacc': [100.0, 49.6, 35.3, 25.3, 17.3, 17.7, 12.3, 11.6, 13.2, 9.8], 'nist_sq_triplet_hardest_no_softmax_4_trainacc': [100.0, 49.5, 30.4, 27.0, 20.4, 17.9, 15.8, 11.8, 13.5, 9.3], 'nist_sq_triplet_hardest_no_softmax_4_valacc': [100.0, 50.3, 34.1, 24.4, 22.1, 14.9, 16.2, 12.5, 9.3, 9.3], 'nist_sq_triplet_mixedlinear_no_softmax_0_trainacc': [100.0, 97.2, 94.5, 92.6, 89.5, 88.8, 87.3, 86.8, 84.2, 82.3], 'nist_sq_triplet_mixedlinear_no_softmax_0_valacc': [100.0, 94.8, 92.9, 90.0, 88.1, 86.6, 83.2, 83.0, 82.5, 80.7], 'nist_sq_triplet_mixedlinear_no_softmax_1_trainacc': [100.0, 95.7, 92.4, 88.7, 85.8, 84.4, 81.6, 79.9, 78.5, 75.4], 'nist_sq_triplet_mixedlinear_no_softmax_1_valacc': [100.0, 93.3, 89.9, 85.7, 83.7, 80.8, 74.1, 78.2, 73.8, 72.6], 'nist_sq_triplet_mixedlinear_no_softmax_2_trainacc': [100.0, 94.5, 93.3, 87.4, 86.7, 82.5, 83.9, 78.7, 76.9, 74.9], 'nist_sq_triplet_mixedlinear_no_softmax_2_valacc': [100.0, 94.3, 88.7, 84.2, 83.6, 81.4, 77.4, 75.5, 74.4, 69.9], 'nist_sq_triplet_mixedlinear_no_softmax_3_trainacc': [100.0, 96.5, 95.4, 92.2, 88.6, 89.7, 87.5, 87.7, 86.8, 83.4], 'nist_sq_triplet_mixedlinear_no_softmax_3_valacc': [100.0, 96.3, 92.6, 88.8, 87.5, 85.4, 83.9, 81.5, 78.8, 80.3], 'nist_sq_triplet_mixedlinear_no_softmax_4_trainacc': [100.0, 95.3, 93.5, 92.0, 87.9, 86.0, 84.1, 84.0, 82.7, 77.7], 'nist_sq_triplet_mixedlinear_no_softmax_4_valacc': [100.0, 94.6, 89.4, 87.5, 86.1, 81.5, 81.6, 78.2, 75.6, 76.5], 'nist_sq_triplet_random_no_softmax_0_trainacc': [100.0, 94.9, 92.7, 91.4, 86.7, 85.0, 84.3, 79.5, 79.3, 78.9], 'nist_sq_triplet_random_no_softmax_0_valacc': [100.0, 93.9, 90.4, 86.8, 82.9, 81.0, 80.2, 75.7, 74.4, 74.6], 'nist_sq_triplet_random_no_softmax_1_trainacc': [100.0, 95.7, 92.4, 91.3, 86.9, 83.5, 82.8, 80.3, 80.3, 78.9], 'nist_sq_triplet_random_no_softmax_1_valacc': [100.0, 94.0, 91.2, 86.8, 85.8, 83.3, 79.5, 78.1, 77.4, 75.9], 'nist_sq_triplet_random_no_softmax_2_trainacc': [100.0, 96.3, 93.0, 90.1, 86.1, 85.1, 82.7, 81.4, 81.3, 81.8], 'nist_sq_triplet_random_no_softmax_2_valacc': [100.0, 93.5, 89.5, 87.9, 84.0, 80.5, 80.1, 77.8, 77.2, 74.4], 'nist_sq_triplet_random_no_softmax_3_trainacc': [100.0, 95.3, 92.0, 90.0, 86.0, 85.1, 84.4, 81.0, 79.5, 78.6], 'nist_sq_triplet_random_no_softmax_3_valacc': [100.0, 94.3, 91.5, 88.7, 83.7, 82.1, 80.4, 75.9, 73.3, 74.3], 'nist_sq_triplet_random_no_softmax_4_trainacc': [100.0, 98.3, 94.6, 94.0, 90.9, 90.0, 88.0, 86.6, 87.3, 84.2], 'nist_sq_triplet_random_no_softmax_4_valacc': [100.0, 96.5, 93.5, 92.4, 88.6, 85.8, 84.1, 83.8, 81.2, 80.5], 'nist_sq_triplet_semihard_no_softmax_0_trainacc': [100.0, 94.4, 90.9, 88.9, 88.0, 85.1, 83.0, 82.9, 78.2, 77.5], 'nist_sq_triplet_semihard_no_softmax_0_valacc': [100.0, 94.9, 90.9, 85.4, 82.5, 79.9, 78.2, 75.7, 75.1, 71.6], 'nist_sq_triplet_semihard_no_softmax_1_trainacc': [100.0, 80.1, 73.0, 63.2, 60.1, 54.5, 51.3, 45.3, 44.5, 44.8], 'nist_sq_triplet_semihard_no_softmax_1_valacc': [100.0, 81.9, 68.3, 64.6, 57.0, 53.8, 47.7, 48.5, 42.6, 43.1], 'nist_sq_triplet_semihard_no_softmax_2_trainacc': [100.0, 80.8, 65.1, 61.7, 56.1, 50.8, 46.7, 46.0, 41.4, 42.2], 'nist_sq_triplet_semihard_no_softmax_2_valacc': [100.0, 79.3, 66.1, 59.9, 51.4, 49.4, 45.4, 43.0, 42.1, 36.2], 'nist_sq_triplet_semihard_no_softmax_3_trainacc': [100.0, 95.7, 94.1, 91.0, 89.9, 88.7, 85.0, 84.3, 82.2, 80.7], 'nist_sq_triplet_semihard_no_softmax_3_valacc': [100.0, 94.9, 92.2, 88.6, 86.4, 80.1, 80.1, 79.0, 76.1, 76.4], 'nist_sq_triplet_semihard_no_softmax_4_trainacc': [100.0, 84.3, 73.9, 68.5, 63.8, 59.4, 58.4, 52.5, 49.5, 45.3], 'nist_sq_triplet_semihard_no_softmax_4_valacc': [100.0, 80.6, 71.0, 66.4, 59.8, 54.4, 50.4, 51.2, 48.3, 45.3]}"
   ]
  },
  {
   "cell_type": "markdown",
   "metadata": {},
   "source": [
    "## NIST SD19"
   ]
  },
  {
   "cell_type": "code",
   "execution_count": 2,
   "metadata": {},
   "outputs": [],
   "source": [
    "configs = [\"nist_sq_triplet_random_no_softmax\", \"nist_sq_triplet_semihard_no_softmax\", \"nist_sq_triplet_hardest_no_softmax\", \"nist_sq_triplet_mixedlinear_no_softmax\"]"
   ]
  },
  {
   "cell_type": "code",
   "execution_count": 3,
   "metadata": {},
   "outputs": [],
   "source": [
    "best = {\n",
    "    \"nist_sq_triplet_random_no_softmax\": 4, \n",
    "    \"nist_sq_triplet_semihard_no_softmax\": 3, \n",
    "    \"nist_sq_triplet_hardest_no_softmax\": 1, \n",
    "    \"nist_sq_triplet_mixedlinear_no_softmax\" : 0\n",
    "}"
   ]
  },
  {
   "cell_type": "code",
   "execution_count": 4,
   "metadata": {},
   "outputs": [],
   "source": [
    "rows = []\n",
    "for c in configs:\n",
    "    rows.append(c)"
   ]
  },
  {
   "cell_type": "code",
   "execution_count": 5,
   "metadata": {},
   "outputs": [
    {
     "name": "stdout",
     "output_type": "stream",
     "text": [
      "random\t100.00\t50.00\t33.33\t25.00\t20.00\t16.67\t14.29\t12.50\t11.11\t10.00\n",
      "random\t100.0\t96.5\t93.5\t92.4\t88.6\t85.8\t84.1\t83.8\t81.2\t80.5\n",
      "semihard\t100.0\t94.9\t92.2\t88.6\t86.4\t80.1\t80.1\t79.0\t76.1\t76.4\n",
      "hardest\t100.0\t64.3\t48.8\t38.3\t31.7\t28.5\t26.5\t24.1\t23.3\t20.0\n",
      "mixedlinear\t100.0\t94.8\t92.9\t90.0\t88.1\t86.6\t83.2\t83.0\t82.5\t80.7\n"
     ]
    }
   ],
   "source": [
    "print(\"random\",\n",
    "          '\\t'.join(\"{0:.2f}\".format(100 / x) for x in range(1, 11)), sep='\\t')\n",
    "\n",
    "for r in rows:\n",
    "    if r+\"_\"+str(best[r])+\"_valacc\" not in results:\n",
    "        raise Exception('we have a problem: cant find ' + r + '_valacc')\n",
    "    print(r.replace(\"nist_sq_triplet_\", \"\").replace(\"_no_softmax\", \"\"),\n",
    "          '\\t'.join(str(x) for x in results[r+\"_\"+str(best[r])+\"_valacc\"]), sep='\\t')"
   ]
  },
  {
   "cell_type": "markdown",
   "metadata": {},
   "source": [
    "### figure"
   ]
  },
  {
   "cell_type": "code",
   "execution_count": 6,
   "metadata": {},
   "outputs": [],
   "source": [
    "import numpy as np\n",
    "import matplotlib.pyplot as plt\n",
    "from tikzplotlib import save as tikz_save"
   ]
  },
  {
   "cell_type": "code",
   "execution_count": 7,
   "metadata": {},
   "outputs": [],
   "source": [
    "def getValues(c):\n",
    "    A = np.array([results[c+\"_\"+str(i)+\"_valacc\"] for i in range(0,5)])\n",
    "    return np.array([A.mean(axis=0), A.std(axis=0), A.max(axis=0)])"
   ]
  },
  {
   "cell_type": "code",
   "execution_count": 8,
   "metadata": {},
   "outputs": [
    {
     "data": {
      "text/plain": [
       "(4, 3, 10)"
      ]
     },
     "execution_count": 8,
     "metadata": {},
     "output_type": "execute_result"
    }
   ],
   "source": [
    "A = np.array([getValues(c) for c in configs])\n",
    "A.shape"
   ]
  },
  {
   "cell_type": "code",
   "execution_count": 11,
   "metadata": {},
   "outputs": [
    {
     "data": {
      "image/png": "[encoded data removed]",
      "text/plain": [
       "<Figure size 1152x432 with 1 Axes>"
      ]
     },
     "metadata": {
      "needs_background": "light"
     },
     "output_type": "display_data"
    }
   ],
   "source": [
    "labels = [str(i) + \"-way\" for i in range(1,11)]\n",
    "color = plt.cm.gist_rainbow(np.linspace(0, 1, 4))\n",
    "fillcolor = np.minimum(color*0.25, np.ones((4, 4)))+0.75\n",
    "\n",
    "x = np.arange(len(labels))\n",
    "width = 0.175\n",
    "\n",
    "fig, ax = plt.subplots(figsize=(16,6))\n",
    "\n",
    "rects1    = ax.bar(x - 1.5*width-.075, A[0,0,:], width, label='Random', color=fillcolor[0], edgecolor=color[0], linewidth=3)\n",
    "err1 = ax.errorbar(x - 1.5*width-.075, A[0,0,:], yerr=A[0,1,:], fmt='.k', markersize=2, capsize=4)\n",
    "rects2 =    ax.bar(x - width / 2-.025, A[1,0,:], width, label='Semi-hard', color=fillcolor[1], edgecolor=color[1], linewidth=3)\n",
    "err2 = ax.errorbar(x - width / 2-.025, A[1,0,:], yerr=A[1,1,:], fmt='.k', markersize=2, capsize=4)\n",
    "rects3 =    ax.bar(x + width / 2+.025, A[2,0,:], width, label='Hardest', color=fillcolor[2], edgecolor=color[2], linewidth=3)\n",
    "err3 = ax.errorbar(x + width / 2+.025, A[2,0,:], yerr=A[2,1,:], fmt='.k', markersize=2, capsize=4)\n",
    "rects4 =    ax.bar(x + 1.5* width+.075, A[3,0,:], width, label='NSPA', color=fillcolor[3], edgecolor=color[3], linewidth=3)\n",
    "err4 = ax.errorbar(x + 1.5* width+.075, A[3,0,:], yerr=A[3,1,:], fmt='.k', markersize=2, capsize=4)\n",
    "\n",
    "plt1 = ax.plot(x - 1.5*width-.075,  A[0,2,:], color=\"k\", linewidth=0, marker=\"^\", markersize=4)\n",
    "plt2 = ax.plot(x - width / 2-.025,  A[1,2,:], color=\"k\", linewidth=0, marker=\"^\", markersize=4)\n",
    "plt3 = ax.plot(x + width / 2+.025,  A[2,2,:], color=\"k\", linewidth=0, marker=\"^\", markersize=4)\n",
    "plt4 = ax.plot(x + 1.5* width+.075, A[3,2,:], color=\"k\", linewidth=0, marker=\"^\", markersize=4)\n",
    "\n",
    "ax.set_ylabel('One-shot accuracy (%)')\n",
    "ax.set_xticks(range(0,10))\n",
    "ax.set_xticklabels(labels)\n",
    "ax.legend(loc='upper right')\n",
    "\n",
    "fig.tight_layout()\n",
    "\n",
    "tikz_save(\"fig_oneshotaccuracy_w_std_max.tikz\")\n",
    "fig.savefig(\"fig_oneshotaccuracy_w_std_max.pgf\")"
   ]
  }
 ],
 "metadata": {
  "kernelspec": {
   "display_name": "Python 3.7.4 ('venv')",
   "language": "python",
   "name": "python3"
  },
  "language_info": {
   "codemirror_mode": {
    "name": "ipython",
    "version": 3
   },
   "file_extension": ".py",
   "mimetype": "text/x-python",
   "name": "python",
   "nbconvert_exporter": "python",
   "pygments_lexer": "ipython3",
   "version": "3.7.4"
  },
  "vscode": {
   "interpreter": {
    "hash": "b35e6b2ca42e64844843c2df7bb66c7b996cc55c5b8799677073c7029aeac93d"
   }
  }
 },
 "nbformat": 4,
 "nbformat_minor": 4
}
